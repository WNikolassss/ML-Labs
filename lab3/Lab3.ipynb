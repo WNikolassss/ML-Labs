{
  "nbformat": 4,
  "nbformat_minor": 0,
  "metadata": {
    "colab": {
      "name": "Lab3.ipynb",
      "provenance": [],
      "collapsed_sections": [],
      "include_colab_link": true
    },
    "kernelspec": {
      "name": "python3",
      "display_name": "Python 3"
    },
    "language_info": {
      "name": "python"
    }
  },
  "cells": [
    {
      "cell_type": "markdown",
      "metadata": {
        "id": "view-in-github",
        "colab_type": "text"
      },
      "source": [
        "<a href=\"https://colab.research.google.com/github/WNikolassss/ML-Labs/blob/master/lab3/Lab3.ipynb\" target=\"_parent\"><img src=\"https://colab.research.google.com/assets/colab-badge.svg\" alt=\"Open In Colab\"/></a>"
      ]
    },
    {
      "cell_type": "markdown",
      "metadata": {
        "id": "6LeveCVkCegY"
      },
      "source": [
        "Мединський Микола КП-01МП 13.06.2021"
      ]
    },
    {
      "cell_type": "markdown",
      "metadata": {
        "id": "eKUid0mSCuff"
      },
      "source": [
        "Load the Data"
      ]
    },
    {
      "cell_type": "code",
      "metadata": {
        "colab": {
          "base_uri": "https://localhost:8080/"
        },
        "id": "9mqhxAOCu4W2",
        "outputId": "e9e85508-c694-442c-e92f-2942ed34bfed"
      },
      "source": [
        "from keras.datasets import fashion_mnist\n",
        "(train_X,train_Y), (test_X,test_Y) = fashion_mnist.load_data()"
      ],
      "execution_count": 1,
      "outputs": [
        {
          "output_type": "stream",
          "text": [
            "Downloading data from https://storage.googleapis.com/tensorflow/tf-keras-datasets/train-labels-idx1-ubyte.gz\n",
            "32768/29515 [=================================] - 0s 0us/step\n",
            "40960/29515 [=========================================] - 0s 0us/step\n",
            "Downloading data from https://storage.googleapis.com/tensorflow/tf-keras-datasets/train-images-idx3-ubyte.gz\n",
            "26427392/26421880 [==============================] - 0s 0us/step\n",
            "26435584/26421880 [==============================] - 0s 0us/step\n",
            "Downloading data from https://storage.googleapis.com/tensorflow/tf-keras-datasets/t10k-labels-idx1-ubyte.gz\n",
            "16384/5148 [===============================================================================================] - 0s 0us/step\n",
            "Downloading data from https://storage.googleapis.com/tensorflow/tf-keras-datasets/t10k-images-idx3-ubyte.gz\n",
            "4423680/4422102 [==============================] - 0s 0us/step\n",
            "4431872/4422102 [==============================] - 0s 0us/step\n"
          ],
          "name": "stdout"
        }
      ]
    },
    {
      "cell_type": "markdown",
      "metadata": {
        "id": "R_MKMU1oCxxp"
      },
      "source": [
        "Analyze the Data"
      ]
    },
    {
      "cell_type": "code",
      "metadata": {
        "id": "a0nLFz_Nu_gl",
        "colab": {
          "base_uri": "https://localhost:8080/"
        },
        "outputId": "1524c33f-9595-4caa-ca86-c7f44ed53211"
      },
      "source": [
        "import numpy as np\n",
        "from tensorflow.keras.utils import to_categorical\n",
        "import matplotlib.pyplot as plt\n",
        "%matplotlib inline\n",
        "print('Training data shape : ', train_X.shape, train_Y.shape)\n",
        "print('Testing data shape : ', test_X.shape, test_Y.shape)"
      ],
      "execution_count": 2,
      "outputs": [
        {
          "output_type": "stream",
          "text": [
            "Training data shape :  (60000, 28, 28) (60000,)\n",
            "Testing data shape :  (10000, 28, 28) (10000,)\n"
          ],
          "name": "stdout"
        }
      ]
    },
    {
      "cell_type": "markdown",
      "metadata": {
        "id": "cOVlCjQav10V"
      },
      "source": [
        "Which shape has the training data and test data? train_X and train_Y has training data and test_X and test_Y has test data.\n",
        "Which training and testing samples has each dimension? test_X and train_X"
      ]
    },
    {
      "cell_type": "code",
      "metadata": {
        "colab": {
          "base_uri": "https://localhost:8080/"
        },
        "id": "H2D2RItpwY5X",
        "outputId": "b42f9bbb-c33f-404a-f31c-f61f895edd58"
      },
      "source": [
        "# Find the unique numbers from the train labels\n",
        "classes = np.unique(train_Y)\n",
        "nClasses = len(classes)\n",
        "print('Total number of outputs : ', nClasses)\n",
        "print('Output classes : ', classes)"
      ],
      "execution_count": 3,
      "outputs": [
        {
          "output_type": "stream",
          "text": [
            "Total number of outputs :  10\n",
            "Output classes :  [0 1 2 3 4 5 6 7 8 9]\n"
          ],
          "name": "stdout"
        }
      ]
    },
    {
      "cell_type": "code",
      "metadata": {
        "colab": {
          "base_uri": "https://localhost:8080/",
          "height": 208
        },
        "id": "LJh3FgX_wjPY",
        "outputId": "e511da39-5cbb-422d-d930-2452755666d4"
      },
      "source": [
        "plt.figure(figsize=[5,5])\n",
        "# Display the first image in training data\n",
        "plt.subplot(121)\n",
        "plt.imshow(train_X[0,:,:], cmap='gray')\n",
        "plt.title(\"Ground Truth : {}\".format(train_Y[0]))\n",
        "# Display the first image in testing data\n",
        "plt.subplot(122)\n",
        "plt.imshow(test_X[0,:,:], cmap='gray')\n",
        "plt.title(\"Ground Truth : {}\".format(test_Y[0]))"
      ],
      "execution_count": 4,
      "outputs": [
        {
          "output_type": "execute_result",
          "data": {
            "text/plain": [
              "Text(0.5, 1.0, 'Ground Truth : 9')"
            ]
          },
          "metadata": {
            "tags": []
          },
          "execution_count": 4
        },
        {
          "output_type": "display_data",
          "data": {
            "image/png": "[encoded data removed]",
            "text/plain": [
              "<Figure size 360x360 with 2 Axes>"
            ]
          },
          "metadata": {
            "tags": [],
            "needs_background": "light"
          }
        }
      ]
    },
    {
      "cell_type": "markdown",
      "metadata": {
        "id": "0iPfjsV8C8Sp"
      },
      "source": [
        "Data Preprocessing"
      ]
    },
    {
      "cell_type": "code",
      "metadata": {
        "colab": {
          "base_uri": "https://localhost:8080/"
        },
        "id": "_NE2zM2wwoO3",
        "outputId": "34e2b1f3-3446-4c0f-db30-58f34392e3a5"
      },
      "source": [
        "train_X = train_X.reshape(-1, 28,28, 1)\n",
        "test_X = test_X.reshape(-1, 28,28, 1)\n",
        "train_X.shape, test_X.shape"
      ],
      "execution_count": 5,
      "outputs": [
        {
          "output_type": "execute_result",
          "data": {
            "text/plain": [
              "((60000, 28, 28, 1), (10000, 28, 28, 1))"
            ]
          },
          "metadata": {
            "tags": []
          },
          "execution_count": 5
        }
      ]
    },
    {
      "cell_type": "code",
      "metadata": {
        "id": "wpuI4vgvwrvU"
      },
      "source": [
        "train_X = train_X.astype('float32')\n",
        "test_X = test_X.astype('float32')\n",
        "train_X = train_X / 255.\n",
        "test_X = test_X / 255."
      ],
      "execution_count": 6,
      "outputs": []
    },
    {
      "cell_type": "code",
      "metadata": {
        "colab": {
          "base_uri": "https://localhost:8080/"
        },
        "id": "c_iBAcPeww-U",
        "outputId": "f291e449-b67b-488d-c627-b090513a8cc0"
      },
      "source": [
        "# Change the labels from categorical to one-hot encoding\n",
        "train_Y_one_hot = to_categorical(train_Y)\n",
        "test_Y_one_hot = to_categorical(test_Y)\n",
        "# Display the change for category label using one-hot encoding\n",
        "print('Original label:', train_Y[0])\n",
        "print('After conversion to one-hot:', train_Y_one_hot[0])"
      ],
      "execution_count": 7,
      "outputs": [
        {
          "output_type": "stream",
          "text": [
            "Original label: 9\n",
            "After conversion to one-hot: [0. 0. 0. 0. 0. 0. 0. 0. 0. 1.]\n"
          ],
          "name": "stdout"
        }
      ]
    },
    {
      "cell_type": "code",
      "metadata": {
        "colab": {
          "base_uri": "https://localhost:8080/"
        },
        "id": "06pcoBu5w3Pg",
        "outputId": "16e1c4f1-7e15-47a0-8719-d28e5c849fe9"
      },
      "source": [
        "from sklearn.model_selection import train_test_split\n",
        "train_X,valid_X,train_label,valid_label = train_test_split(train_X,\n",
        "train_Y_one_hot, test_size=0.2, random_state=13)\n",
        "# For one last time let's check the shape of training and validation set.\n",
        "train_X.shape,valid_X.shape,train_label.shape,valid_label.shape"
      ],
      "execution_count": 8,
      "outputs": [
        {
          "output_type": "execute_result",
          "data": {
            "text/plain": [
              "((48000, 28, 28, 1), (12000, 28, 28, 1), (48000, 10), (12000, 10))"
            ]
          },
          "metadata": {
            "tags": []
          },
          "execution_count": 8
        }
      ]
    },
    {
      "cell_type": "markdown",
      "metadata": {
        "id": "9udITmnyDCfY"
      },
      "source": [
        "Model the Data"
      ]
    },
    {
      "cell_type": "code",
      "metadata": {
        "id": "A4yfds4UxAeA"
      },
      "source": [
        "import keras\n",
        "from keras.models import Sequential,Input,Model\n",
        "from keras.layers import Dense, Dropout, Flatten\n",
        "from keras.layers import Conv2D, MaxPooling2D\n",
        "from keras.layers.normalization import BatchNormalization\n",
        "from keras.layers.advanced_activations import LeakyReLU"
      ],
      "execution_count": 9,
      "outputs": []
    },
    {
      "cell_type": "code",
      "metadata": {
        "id": "WvpXrYgxxC18"
      },
      "source": [
        "batch_size = 64\n",
        "epochs = 20\n",
        "num_classes = 10"
      ],
      "execution_count": 13,
      "outputs": []
    },
    {
      "cell_type": "markdown",
      "metadata": {
        "id": "R_011lCKDGT7"
      },
      "source": [
        "Neural Network Architecture"
      ]
    },
    {
      "cell_type": "code",
      "metadata": {
        "id": "4Ih_d3IxxGHI"
      },
      "source": [
        "fashion_model = Sequential()\n",
        "fashion_model.add(Conv2D(32, kernel_size=(3,\n",
        "3),activation='linear',input_shape=(28,28,1),padding='same'))\n",
        "fashion_model.add(LeakyReLU(alpha=0.1))\n",
        "fashion_model.add(MaxPooling2D((2, 2),padding='same'))\n",
        "fashion_model.add(Conv2D(64, (3, 3), activation='linear',padding='same'))\n",
        "fashion_model.add(LeakyReLU(alpha=0.1))\n",
        "fashion_model.add(MaxPooling2D(pool_size=(2, 2),padding='same'))\n",
        "fashion_model.add(Conv2D(128, (3, 3), activation='linear',padding='same'))\n",
        "fashion_model.add(LeakyReLU(alpha=0.1))\n",
        "fashion_model.add(MaxPooling2D(pool_size=(2, 2),padding='same'))\n",
        "fashion_model.add(Flatten())\n",
        "fashion_model.add(Dense(128, activation='linear'))\n",
        "fashion_model.add(LeakyReLU(alpha=0.1))\n",
        "fashion_model.add(Dense(num_classes, activation='softmax'))"
      ],
      "execution_count": 14,
      "outputs": []
    },
    {
      "cell_type": "markdown",
      "metadata": {
        "id": "rgBBvzYFDJcd"
      },
      "source": [
        "Compile the Model"
      ]
    },
    {
      "cell_type": "code",
      "metadata": {
        "id": "s7brpxdDxKeB"
      },
      "source": [
        "fashion_model.compile(loss=keras.losses.categorical_crossentropy,\n",
        "optimizer=keras.optimizers.Adam(),metrics=['accuracy'])"
      ],
      "execution_count": 11,
      "outputs": []
    },
    {
      "cell_type": "code",
      "metadata": {
        "colab": {
          "base_uri": "https://localhost:8080/"
        },
        "id": "_GovtLAqxLPR",
        "outputId": "a1b10e98-c3a3-4ca3-aacf-b1b27b21bb19"
      },
      "source": [
        "fashion_model.summary()"
      ],
      "execution_count": 12,
      "outputs": [
        {
          "output_type": "stream",
          "text": [
            "Model: \"sequential\"\n",
            "_________________________________________________________________\n",
            "Layer (type)                 Output Shape              Param #   \n",
            "=================================================================\n",
            "conv2d (Conv2D)              (None, 28, 28, 32)        320       \n",
            "_________________________________________________________________\n",
            "leaky_re_lu (LeakyReLU)      (None, 28, 28, 32)        0         \n",
            "_________________________________________________________________\n",
            "max_pooling2d (MaxPooling2D) (None, 14, 14, 32)        0         \n",
            "_________________________________________________________________\n",
            "conv2d_1 (Conv2D)            (None, 14, 14, 64)        18496     \n",
            "_________________________________________________________________\n",
            "leaky_re_lu_1 (LeakyReLU)    (None, 14, 14, 64)        0         \n",
            "_________________________________________________________________\n",
            "max_pooling2d_1 (MaxPooling2 (None, 7, 7, 64)          0         \n",
            "_________________________________________________________________\n",
            "conv2d_2 (Conv2D)            (None, 7, 7, 128)         73856     \n",
            "_________________________________________________________________\n",
            "leaky_re_lu_2 (LeakyReLU)    (None, 7, 7, 128)         0         \n",
            "_________________________________________________________________\n",
            "max_pooling2d_2 (MaxPooling2 (None, 4, 4, 128)         0         \n",
            "_________________________________________________________________\n",
            "flatten (Flatten)            (None, 2048)              0         \n",
            "_________________________________________________________________\n",
            "dense (Dense)                (None, 128)               262272    \n",
            "_________________________________________________________________\n",
            "leaky_re_lu_3 (LeakyReLU)    (None, 128)               0         \n",
            "=================================================================\n",
            "Total params: 354,944\n",
            "Trainable params: 354,944\n",
            "Non-trainable params: 0\n",
            "_________________________________________________________________\n"
          ],
          "name": "stdout"
        }
      ]
    },
    {
      "cell_type": "markdown",
      "metadata": {
        "id": "pbCkV1HJDOFn"
      },
      "source": [
        "Train the Model"
      ]
    },
    {
      "cell_type": "code",
      "metadata": {
        "colab": {
          "base_uri": "https://localhost:8080/"
        },
        "id": "_b89JARcxPG2",
        "outputId": "f2ad9499-e16b-4d49-9ff9-0660999c7a72"
      },
      "source": [
        "fashion_train = fashion_model.fit(train_X, train_label,\n",
        "batch_size=batch_size,epochs=epochs,verbose=1,validation_data=(valid_X,\n",
        "valid_label))"
      ],
      "execution_count": null,
      "outputs": [
        {
          "output_type": "stream",
          "text": [
            "Epoch 1/20\n",
            "750/750 [==============================] - 104s 119ms/step - loss: 0.6659 - accuracy: 0.7565 - val_loss: 0.3101 - val_accuracy: 0.8892\n",
            "Epoch 2/20\n",
            "750/750 [==============================] - 88s 118ms/step - loss: 0.2907 - accuracy: 0.8926 - val_loss: 0.2860 - val_accuracy: 0.8954\n",
            "Epoch 3/20\n",
            "750/750 [==============================] - 92s 123ms/step - loss: 0.2446 - accuracy: 0.9097 - val_loss: 0.2501 - val_accuracy: 0.9093\n",
            "Epoch 4/20\n",
            "750/750 [==============================] - 90s 120ms/step - loss: 0.2072 - accuracy: 0.9248 - val_loss: 0.2498 - val_accuracy: 0.9092\n",
            "Epoch 5/20\n",
            "750/750 [==============================] - 90s 120ms/step - loss: 0.1772 - accuracy: 0.9346 - val_loss: 0.2324 - val_accuracy: 0.9152\n",
            "Epoch 6/20\n",
            "750/750 [==============================] - 89s 118ms/step - loss: 0.1575 - accuracy: 0.9438 - val_loss: 0.2393 - val_accuracy: 0.9159\n",
            "Epoch 7/20\n",
            "750/750 [==============================] - 89s 119ms/step - loss: 0.1359 - accuracy: 0.9491 - val_loss: 0.2553 - val_accuracy: 0.9130\n",
            "Epoch 8/20\n",
            "750/750 [==============================] - 89s 119ms/step - loss: 0.1137 - accuracy: 0.9582 - val_loss: 0.2391 - val_accuracy: 0.9212\n",
            "Epoch 9/20\n",
            "750/750 [==============================] - 89s 119ms/step - loss: 0.0971 - accuracy: 0.9634 - val_loss: 0.2599 - val_accuracy: 0.9184\n",
            "Epoch 10/20\n",
            "750/750 [==============================] - 89s 119ms/step - loss: 0.0824 - accuracy: 0.9699 - val_loss: 0.2603 - val_accuracy: 0.9228\n",
            "Epoch 11/20\n",
            "750/750 [==============================] - 90s 120ms/step - loss: 0.0722 - accuracy: 0.9731 - val_loss: 0.2683 - val_accuracy: 0.9223\n",
            "Epoch 12/20\n",
            "750/750 [==============================] - 89s 119ms/step - loss: 0.0574 - accuracy: 0.9780 - val_loss: 0.3040 - val_accuracy: 0.9195\n",
            "Epoch 13/20\n",
            "750/750 [==============================] - 89s 119ms/step - loss: 0.0501 - accuracy: 0.9815 - val_loss: 0.3253 - val_accuracy: 0.9198\n",
            "Epoch 14/20\n",
            "750/750 [==============================] - 89s 118ms/step - loss: 0.0400 - accuracy: 0.9854 - val_loss: 0.3532 - val_accuracy: 0.9164\n",
            "Epoch 15/20\n",
            "750/750 [==============================] - 89s 118ms/step - loss: 0.0426 - accuracy: 0.9838 - val_loss: 0.3726 - val_accuracy: 0.9216\n",
            "Epoch 16/20\n",
            "750/750 [==============================] - 89s 118ms/step - loss: 0.0323 - accuracy: 0.9882 - val_loss: 0.3747 - val_accuracy: 0.9219\n",
            "Epoch 17/20\n",
            "750/750 [==============================] - 89s 119ms/step - loss: 0.0318 - accuracy: 0.9883 - val_loss: 0.4501 - val_accuracy: 0.9169\n",
            "Epoch 18/20\n",
            "750/750 [==============================] - 89s 119ms/step - loss: 0.0286 - accuracy: 0.9899 - val_loss: 0.4049 - val_accuracy: 0.9216\n",
            "Epoch 19/20\n",
            "750/750 [==============================] - 89s 119ms/step - loss: 0.0304 - accuracy: 0.9887 - val_loss: 0.3987 - val_accuracy: 0.9201\n",
            "Epoch 20/20\n",
            "750/750 [==============================] - 90s 119ms/step - loss: 0.0303 - accuracy: 0.9887 - val_loss: 0.4336 - val_accuracy: 0.9227\n"
          ],
          "name": "stdout"
        }
      ]
    },
    {
      "cell_type": "markdown",
      "metadata": {
        "id": "bekMXYvJDQiA"
      },
      "source": [
        "Model Evaluation on the Test Set"
      ]
    },
    {
      "cell_type": "code",
      "metadata": {
        "colab": {
          "base_uri": "https://localhost:8080/"
        },
        "id": "SPTq3RcW4R8b",
        "outputId": "2235a321-490c-4221-f43f-a4a399eb22a6"
      },
      "source": [
        "test_eval = fashion_model.evaluate(test_X, test_Y_one_hot, verbose=0)\n",
        "print('Test loss:', test_eval[0])\n",
        "print('Test accuracy:', test_eval[1])"
      ],
      "execution_count": null,
      "outputs": [
        {
          "output_type": "stream",
          "text": [
            "Test loss: 0.48396846652030945\n",
            "Test accuracy: 0.9158999919891357\n"
          ],
          "name": "stdout"
        }
      ]
    },
    {
      "cell_type": "code",
      "metadata": {
        "colab": {
          "base_uri": "https://localhost:8080/",
          "height": 545
        },
        "id": "nY_ZtTIC4Yg6",
        "outputId": "c9db3489-1749-415f-a94b-8416a01ad86c"
      },
      "source": [
        "accuracy = fashion_train.history['accuracy']\n",
        "val_accuracy = fashion_train.history['val_accuracy']\n",
        "loss = fashion_train.history['loss']\n",
        "val_loss = fashion_train.history['val_loss']\n",
        "epochs = range(len(accuracy))\n",
        "plt.plot(epochs, accuracy, 'bo', label='Training accuracy')\n",
        "plt.plot(epochs, val_accuracy, 'b', label='Validation accuracy')\n",
        "plt.title('Training and validation accuracy')\n",
        "plt.legend()\n",
        "plt.figure()\n",
        "plt.plot(epochs, loss, 'bo', label='Training loss')\n",
        "plt.plot(epochs, val_loss, 'b', label='Validation loss')\n",
        "plt.title('Training and validation loss')\n",
        "plt.legend()\n",
        "plt.show()"
      ],
      "execution_count": null,
      "outputs": [
        {
          "output_type": "display_data",
          "data": {
            "image/png": "[encoded data removed]",
            "text/plain": [
              "<Figure size 432x288 with 1 Axes>"
            ]
          },
          "metadata": {
            "tags": [],
            "needs_background": "light"
          }
        },
        {
          "output_type": "display_data",
          "data": {
            "image/png": "[encoded data removed]",
            "text/plain": [
              "<Figure size 432x288 with 1 Axes>"
            ]
          },
          "metadata": {
            "tags": [],
            "needs_background": "light"
          }
        }
      ]
    },
    {
      "cell_type": "markdown",
      "metadata": {
        "id": "bj2S-l4ZDTzO"
      },
      "source": [
        "Adding Dropout into the Network"
      ]
    },
    {
      "cell_type": "code",
      "metadata": {
        "colab": {
          "base_uri": "https://localhost:8080/"
        },
        "id": "9FscnYmv5AWK",
        "outputId": "fd32a9e8-8d08-400d-aeae-04f148278451"
      },
      "source": [
        "batch_size = 64\n",
        "epochs = 20\n",
        "num_classes = 10\n",
        "fashion_model = Sequential()\n",
        "fashion_model.add(Conv2D(32, kernel_size=(3,\n",
        "3),activation='linear',padding='same',input_shape=(28,28,1)))\n",
        "fashion_model.add(LeakyReLU(alpha=0.1))\n",
        "fashion_model.add(MaxPooling2D((2, 2),padding='same'))\n",
        "fashion_model.add(Dropout(0.25))\n",
        "fashion_model.add(Conv2D(64, (3, 3), activation='linear',padding='same'))\n",
        "fashion_model.add(LeakyReLU(alpha=0.1))\n",
        "fashion_model.add(MaxPooling2D(pool_size=(2, 2),padding='same'))\n",
        "fashion_model.add(Dropout(0.25))\n",
        "fashion_model.add(Conv2D(128, (3, 3), activation='linear',padding='same'))\n",
        "fashion_model.add(LeakyReLU(alpha=0.1))\n",
        "fashion_model.add(MaxPooling2D(pool_size=(2, 2),padding='same'))\n",
        "fashion_model.add(Dropout(0.4))\n",
        "fashion_model.add(Flatten())\n",
        "fashion_model.add(Dense(128, activation='linear'))\n",
        "fashion_model.add(LeakyReLU(alpha=0.1))\n",
        "fashion_model.add(Dropout(0.3))\n",
        "fashion_model.add(Dense(num_classes, activation='softmax'))\n",
        "fashion_model.summary()"
      ],
      "execution_count": null,
      "outputs": [
        {
          "output_type": "stream",
          "text": [
            "Model: \"sequential_1\"\n",
            "_________________________________________________________________\n",
            "Layer (type)                 Output Shape              Param #   \n",
            "=================================================================\n",
            "conv2d_3 (Conv2D)            (None, 28, 28, 32)        320       \n",
            "_________________________________________________________________\n",
            "leaky_re_lu_4 (LeakyReLU)    (None, 28, 28, 32)        0         \n",
            "_________________________________________________________________\n",
            "max_pooling2d_3 (MaxPooling2 (None, 14, 14, 32)        0         \n",
            "_________________________________________________________________\n",
            "dropout (Dropout)            (None, 14, 14, 32)        0         \n",
            "_________________________________________________________________\n",
            "conv2d_4 (Conv2D)            (None, 14, 14, 64)        18496     \n",
            "_________________________________________________________________\n",
            "leaky_re_lu_5 (LeakyReLU)    (None, 14, 14, 64)        0         \n",
            "_________________________________________________________________\n",
            "max_pooling2d_4 (MaxPooling2 (None, 7, 7, 64)          0         \n",
            "_________________________________________________________________\n",
            "dropout_1 (Dropout)          (None, 7, 7, 64)          0         \n",
            "_________________________________________________________________\n",
            "conv2d_5 (Conv2D)            (None, 7, 7, 128)         73856     \n",
            "_________________________________________________________________\n",
            "leaky_re_lu_6 (LeakyReLU)    (None, 7, 7, 128)         0         \n",
            "_________________________________________________________________\n",
            "max_pooling2d_5 (MaxPooling2 (None, 4, 4, 128)         0         \n",
            "_________________________________________________________________\n",
            "dropout_2 (Dropout)          (None, 4, 4, 128)         0         \n",
            "_________________________________________________________________\n",
            "flatten_1 (Flatten)          (None, 2048)              0         \n",
            "_________________________________________________________________\n",
            "dense_2 (Dense)              (None, 128)               262272    \n",
            "_________________________________________________________________\n",
            "leaky_re_lu_7 (LeakyReLU)    (None, 128)               0         \n",
            "_________________________________________________________________\n",
            "dropout_3 (Dropout)          (None, 128)               0         \n",
            "_________________________________________________________________\n",
            "dense_3 (Dense)              (None, 10)                1290      \n",
            "=================================================================\n",
            "Total params: 356,234\n",
            "Trainable params: 356,234\n",
            "Non-trainable params: 0\n",
            "_________________________________________________________________\n"
          ],
          "name": "stdout"
        }
      ]
    },
    {
      "cell_type": "code",
      "metadata": {
        "colab": {
          "base_uri": "https://localhost:8080/"
        },
        "id": "TndtIw7o5a-Q",
        "outputId": "5743fe9b-f861-436f-c926-1e8bf8173765"
      },
      "source": [
        "fashion_model.compile(loss=keras.losses.categorical_crossentropy,\n",
        "optimizer=keras.optimizers.Adam(),metrics=['accuracy'])\n",
        "fashion_train_dropout = fashion_model.fit(train_X, train_label,\n",
        "batch_size=batch_size,epochs=epochs,verbose=1,validation_data=(valid_X,\n",
        "valid_label))"
      ],
      "execution_count": null,
      "outputs": [
        {
          "output_type": "stream",
          "text": [
            "Epoch 1/20\n",
            "750/750 [==============================] - 97s 127ms/step - loss: 0.8567 - accuracy: 0.6790 - val_loss: 0.3672 - val_accuracy: 0.8662\n",
            "Epoch 2/20\n",
            "750/750 [==============================] - 96s 127ms/step - loss: 0.4002 - accuracy: 0.8532 - val_loss: 0.3134 - val_accuracy: 0.8837\n",
            "Epoch 3/20\n",
            "750/750 [==============================] - 99s 132ms/step - loss: 0.3395 - accuracy: 0.8745 - val_loss: 0.3062 - val_accuracy: 0.8877\n",
            "Epoch 4/20\n",
            "750/750 [==============================] - 96s 129ms/step - loss: 0.3071 - accuracy: 0.8855 - val_loss: 0.2655 - val_accuracy: 0.9007\n",
            "Epoch 5/20\n",
            "750/750 [==============================] - 95s 127ms/step - loss: 0.2884 - accuracy: 0.8918 - val_loss: 0.2484 - val_accuracy: 0.9094\n",
            "Epoch 6/20\n",
            "750/750 [==============================] - 96s 128ms/step - loss: 0.2694 - accuracy: 0.8989 - val_loss: 0.2414 - val_accuracy: 0.9112\n",
            "Epoch 7/20\n",
            "750/750 [==============================] - 96s 128ms/step - loss: 0.2598 - accuracy: 0.9028 - val_loss: 0.2377 - val_accuracy: 0.9138\n",
            "Epoch 8/20\n",
            "750/750 [==============================] - 96s 128ms/step - loss: 0.2542 - accuracy: 0.9051 - val_loss: 0.2302 - val_accuracy: 0.9148\n",
            "Epoch 9/20\n",
            "750/750 [==============================] - 96s 128ms/step - loss: 0.2458 - accuracy: 0.9077 - val_loss: 0.2284 - val_accuracy: 0.9153\n",
            "Epoch 10/20\n",
            "750/750 [==============================] - 96s 128ms/step - loss: 0.2337 - accuracy: 0.9122 - val_loss: 0.2258 - val_accuracy: 0.9172\n",
            "Epoch 11/20\n",
            "750/750 [==============================] - 96s 128ms/step - loss: 0.2291 - accuracy: 0.9129 - val_loss: 0.2145 - val_accuracy: 0.9208\n",
            "Epoch 12/20\n",
            "750/750 [==============================] - 95s 127ms/step - loss: 0.2290 - accuracy: 0.9112 - val_loss: 0.2224 - val_accuracy: 0.9171\n",
            "Epoch 13/20\n",
            "750/750 [==============================] - 95s 126ms/step - loss: 0.2177 - accuracy: 0.9173 - val_loss: 0.2182 - val_accuracy: 0.9205\n",
            "Epoch 14/20\n",
            "750/750 [==============================] - 96s 128ms/step - loss: 0.2169 - accuracy: 0.9179 - val_loss: 0.2102 - val_accuracy: 0.9238\n",
            "Epoch 15/20\n",
            "750/750 [==============================] - 96s 128ms/step - loss: 0.2035 - accuracy: 0.9247 - val_loss: 0.2115 - val_accuracy: 0.9231\n",
            "Epoch 16/20\n",
            "750/750 [==============================] - 95s 127ms/step - loss: 0.2044 - accuracy: 0.9241 - val_loss: 0.2176 - val_accuracy: 0.9228\n",
            "Epoch 17/20\n",
            "750/750 [==============================] - 95s 127ms/step - loss: 0.2016 - accuracy: 0.9237 - val_loss: 0.2184 - val_accuracy: 0.9222\n",
            "Epoch 18/20\n",
            "750/750 [==============================] - 96s 128ms/step - loss: 0.1997 - accuracy: 0.9237 - val_loss: 0.2108 - val_accuracy: 0.9243\n",
            "Epoch 19/20\n",
            "750/750 [==============================] - 95s 127ms/step - loss: 0.1967 - accuracy: 0.9250 - val_loss: 0.2126 - val_accuracy: 0.9252\n",
            "Epoch 20/20\n",
            "750/750 [==============================] - 96s 128ms/step - loss: 0.1978 - accuracy: 0.9257 - val_loss: 0.2123 - val_accuracy: 0.9252\n"
          ],
          "name": "stdout"
        }
      ]
    },
    {
      "cell_type": "code",
      "metadata": {
        "colab": {
          "base_uri": "https://localhost:8080/"
        },
        "id": "RWEWjXzKA4vy",
        "outputId": "15aeed5e-ae6f-4082-eba6-28802293878b"
      },
      "source": [
        "fashion_model.save(\"fashion_model_dropout.h5py\")"
      ],
      "execution_count": null,
      "outputs": [
        {
          "output_type": "stream",
          "text": [
            "INFO:tensorflow:Assets written to: fashion_model_dropout.h5py/assets\n"
          ],
          "name": "stdout"
        }
      ]
    },
    {
      "cell_type": "markdown",
      "metadata": {
        "id": "rANdtwmBDdUW"
      },
      "source": [
        "Model Evaluation on the Test Set (new model)"
      ]
    },
    {
      "cell_type": "code",
      "metadata": {
        "colab": {
          "base_uri": "https://localhost:8080/"
        },
        "id": "P0U2_Pt6BDhb",
        "outputId": "b5320c57-cf9e-43ad-a94a-8a2ea147304e"
      },
      "source": [
        "test_eval = fashion_model.evaluate(test_X, test_Y_one_hot, verbose=1)"
      ],
      "execution_count": null,
      "outputs": [
        {
          "output_type": "stream",
          "text": [
            "313/313 [==============================] - 6s 19ms/step - loss: 0.2208 - accuracy: 0.9203\n"
          ],
          "name": "stdout"
        }
      ]
    },
    {
      "cell_type": "code",
      "metadata": {
        "colab": {
          "base_uri": "https://localhost:8080/"
        },
        "id": "ktT_cR8MBHXV",
        "outputId": "1192fe28-b3a1-4169-dbd9-7312cc4d5088"
      },
      "source": [
        "print('Test loss:', test_eval[0])\n",
        "print('Test accuracy:', test_eval[1])"
      ],
      "execution_count": null,
      "outputs": [
        {
          "output_type": "stream",
          "text": [
            "Test loss: 0.22078073024749756\n",
            "Test accuracy: 0.9203000068664551\n"
          ],
          "name": "stdout"
        }
      ]
    },
    {
      "cell_type": "code",
      "metadata": {
        "colab": {
          "base_uri": "https://localhost:8080/",
          "height": 545
        },
        "id": "4g45aGSJBLYt",
        "outputId": "18779ed0-fee4-47e3-abad-0b48c7a748e2"
      },
      "source": [
        "accuracy = fashion_train_dropout.history['accuracy']\n",
        "val_accuracy = fashion_train_dropout.history['val_accuracy']\n",
        "loss = fashion_train_dropout.history['loss']\n",
        "val_loss = fashion_train_dropout.history['val_loss']\n",
        "epochs = range(len(accuracy))\n",
        "plt.plot(epochs, accuracy, 'bo', label='Training accuracy')\n",
        "plt.plot(epochs, val_accuracy, 'b', label='Validation accuracy')\n",
        "plt.title('Training and validation accuracy')\n",
        "plt.legend()\n",
        "plt.figure()\n",
        "plt.plot(epochs, loss, 'bo', label='Training loss')\n",
        "plt.plot(epochs, val_loss, 'b', label='Validation loss')\n",
        "plt.title('Training and validation loss')\n",
        "plt.legend()\n",
        "plt.show()"
      ],
      "execution_count": null,
      "outputs": [
        {
          "output_type": "display_data",
          "data": {
            "image/png": "[encoded data removed]",
            "text/plain": [
              "<Figure size 432x288 with 1 Axes>"
            ]
          },
          "metadata": {
            "tags": [],
            "needs_background": "light"
          }
        },
        {
          "output_type": "display_data",
          "data": {
            "image/png": "[encoded data removed]",
            "text/plain": [
              "<Figure size 432x288 with 1 Axes>"
            ]
          },
          "metadata": {
            "tags": [],
            "needs_background": "light"
          }
        }
      ]
    },
    {
      "cell_type": "markdown",
      "metadata": {
        "id": "I_fT_vBHDivk"
      },
      "source": [
        "Predict Labels"
      ]
    },
    {
      "cell_type": "code",
      "metadata": {
        "id": "st817N0wBZz7"
      },
      "source": [
        "predicted_classes = fashion_model.predict(test_X)"
      ],
      "execution_count": null,
      "outputs": []
    },
    {
      "cell_type": "code",
      "metadata": {
        "colab": {
          "base_uri": "https://localhost:8080/"
        },
        "id": "55cSYAGQBfG7",
        "outputId": "75771956-075d-4c09-910a-e0b6d6c9a6fd"
      },
      "source": [
        "predicted_classes = np.argmax(np.round(predicted_classes),axis=1)\n",
        "predicted_classes.shape, test_Y.shape"
      ],
      "execution_count": null,
      "outputs": [
        {
          "output_type": "execute_result",
          "data": {
            "text/plain": [
              "((10000,), (10000,))"
            ]
          },
          "metadata": {
            "tags": []
          },
          "execution_count": 31
        }
      ]
    },
    {
      "cell_type": "code",
      "metadata": {
        "colab": {
          "base_uri": "https://localhost:8080/",
          "height": 314
        },
        "id": "MTEsvy9bBh3b",
        "outputId": "5a4d388c-a858-4b9c-c54c-8aad09309845"
      },
      "source": [
        "correct = np.where(predicted_classes==test_Y)[0]\n",
        "print (\"Found %d correct labels\" % len(correct))\n",
        "for i, correct in enumerate(correct[:9]):\n",
        "  plt.subplot(3,3,i+1)\n",
        "  plt.imshow(test_X[correct].reshape(28,28), cmap='gray',\n",
        "interpolation='none')\n",
        "  plt.title(\"Predicted {}, Class {}\".format(predicted_classes[correct],\n",
        "test_Y[correct]))\n",
        "  plt.tight_layout()"
      ],
      "execution_count": null,
      "outputs": [
        {
          "output_type": "stream",
          "text": [
            "Found 9180 correct labels\n"
          ],
          "name": "stdout"
        },
        {
          "output_type": "display_data",
          "data": {
            "image/png": "[encoded data removed]",
            "text/plain": [
              "<Figure size 432x288 with 9 Axes>"
            ]
          },
          "metadata": {
            "tags": [],
            "needs_background": "light"
          }
        }
      ]
    },
    {
      "cell_type": "code",
      "metadata": {
        "colab": {
          "base_uri": "https://localhost:8080/",
          "height": 314
        },
        "id": "XRtxhVb6COAI",
        "outputId": "602c517f-283a-475f-fb6e-fa62f1a69ca0"
      },
      "source": [
        "incorrect = np.where(predicted_classes!=test_Y)[0]\n",
        "print (\"Found %d incorrect labels\" % len(incorrect))\n",
        "for i, incorrect in enumerate(incorrect[:9]):\n",
        "  plt.subplot(3,3,i+1)\n",
        "  plt.imshow(test_X[incorrect].reshape(28,28), cmap='gray',\n",
        "interpolation='none')\n",
        "  plt.title(\"Predicted {}, Class {}\".format(predicted_classes[incorrect],\n",
        "test_Y[incorrect]))\n",
        "  plt.tight_layout()"
      ],
      "execution_count": null,
      "outputs": [
        {
          "output_type": "stream",
          "text": [
            "Found 820 incorrect labels\n"
          ],
          "name": "stdout"
        },
        {
          "output_type": "display_data",
          "data": {
            "image/png": "[encoded data removed]",
            "text/plain": [
              "<Figure size 432x288 with 9 Axes>"
            ]
          },
          "metadata": {
            "tags": [],
            "needs_background": "light"
          }
        }
      ]
    },
    {
      "cell_type": "markdown",
      "metadata": {
        "id": "evUMuCMXDnTs"
      },
      "source": [
        "Classification Report"
      ]
    },
    {
      "cell_type": "code",
      "metadata": {
        "colab": {
          "base_uri": "https://localhost:8080/"
        },
        "id": "oaMrAOKsCY5z",
        "outputId": "ca39ee87-fc0e-41d5-d435-15c2a1589cbe"
      },
      "source": [
        "from sklearn.metrics import classification_report\n",
        "target_names = [\"Class {}\".format(i) for i in range(num_classes)]\n",
        "print(classification_report(test_Y, predicted_classes,\n",
        "target_names=target_names))"
      ],
      "execution_count": null,
      "outputs": [
        {
          "output_type": "stream",
          "text": [
            "              precision    recall  f1-score   support\n",
            "\n",
            "     Class 0       0.79      0.90      0.84      1000\n",
            "     Class 1       1.00      0.98      0.99      1000\n",
            "     Class 2       0.87      0.88      0.88      1000\n",
            "     Class 3       0.93      0.92      0.92      1000\n",
            "     Class 4       0.86      0.89      0.87      1000\n",
            "     Class 5       0.99      0.98      0.99      1000\n",
            "     Class 6       0.84      0.70      0.76      1000\n",
            "     Class 7       0.97      0.97      0.97      1000\n",
            "     Class 8       0.99      0.98      0.99      1000\n",
            "     Class 9       0.97      0.97      0.97      1000\n",
            "\n",
            "    accuracy                           0.92     10000\n",
            "   macro avg       0.92      0.92      0.92     10000\n",
            "weighted avg       0.92      0.92      0.92     10000\n",
            "\n"
          ],
          "name": "stdout"
        }
      ]
    }
  ]
}